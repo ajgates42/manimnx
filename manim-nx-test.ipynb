{
 "cells": [
  {
   "cell_type": "code",
   "execution_count": 1,
   "metadata": {},
   "outputs": [],
   "source": [
    "%load_ext autoreload\n",
    "%autoreload 2"
   ]
  },
  {
   "cell_type": "code",
   "execution_count": 2,
   "metadata": {},
   "outputs": [],
   "source": [
    "import jupyter_manim"
   ]
  },
  {
   "cell_type": "code",
   "execution_count": 3,
   "metadata": {},
   "outputs": [],
   "source": [
    "import manimnx as mnx\n",
    "import networkx as nx"
   ]
  },
  {
   "cell_type": "code",
   "execution_count": 4,
   "metadata": {},
   "outputs": [],
   "source": [
    "G = nx.Graph()\n",
    "\n",
    "G.add_node(0, type='square', factor=(10,10,10), pos=(-1, 1))\n",
    "G.add_node(1, type='square', factor=(10,10), pos=(1, 1))\n",
    "G.add_node(2, type='square', factor=(10,20), pos=(1, -1))\n",
    "G.add_node(3, type='circle', factor=(10,10,10), pos=(-1, -1))\n",
    "\n",
    "G.add_edge(0, 3, weight=(10,10))\n",
    "G.add_edge(1, 3, weight=(10,))\n",
    "G.add_edge(2, 3, weight=(20,))"
   ]
  },
  {
   "cell_type": "code",
   "execution_count": 10,
   "metadata": {},
   "outputs": [
    {
     "name": "stderr",
     "output_type": "stream",
     "text": [
      "Animation 0: ShowCreationManimNX:  23%|██▎       | 7/30 [00:00<00:00, 62.62it/s]"
     ]
    },
    {
     "name": "stdout",
     "output_type": "stream",
     "text": [
      "Media will be written to ./media/. You can change this behavior with the --media_dir flag.\n",
      "\n",
      "\n"
     ]
    },
    {
     "name": "stderr",
     "output_type": "stream",
     "text": []
    },
    {
     "name": "stdout",
     "output_type": "stream",
     "text": [
      "\n",
      "File ready at /Users/rajatvd/Desktop/manim-nx/media/videos/tmpd1cuthl_/720p30/Shapes.mp4\n",
      "\n",
      "\n",
      "\n",
      "Played 2 animations\n",
      "\n",
      "\n"
     ]
    },
    {
     "data": {
      "text/html": [
       "\n",
       "    <video\n",
       "      width=\"854\"\n",
       "      height=\"480\"\n",
       "      autoplay=\"autoplay\"\n",
       "      controls\n",
       "    >\n",
       "        <source src=\"media/videos/tmpd1cuthl_/720p30/Shapes.mp4\" type=\"video/mp4\">\n",
       "    </video>\n",
       "    "
      ],
      "text/plain": [
       "<IPython.core.display.HTML object>"
      ]
     },
     "execution_count": 10,
     "metadata": {},
     "output_type": "execute_result"
    }
   ],
   "source": [
    "%%manim Shapes --medium --verbose\n",
    "from manimlib.imports import *\n",
    "import networkx as nx\n",
    "import manimnx as mnx\n",
    "\n",
    "def get_node(n):\n",
    "    type_to_shape = {\n",
    "        'circle':Circle,\n",
    "        'square':Square\n",
    "    }\n",
    "    node = type_to_shape[n['type']](color=RED, fill_color=BLACK, fill_opacity=1)\n",
    "    x, y = n['pos']\n",
    "    node.move_to(x*RIGHT + y*UP)\n",
    "    return node\n",
    "\n",
    "def get_edge(n1, n2):\n",
    "    x1, y1 = n1['pos']\n",
    "    x2, y2 = n2['pos']\n",
    "    start = x1*RIGHT + y1*UP\n",
    "    end = x2*RIGHT + y2*UP\n",
    "    return Line(start, end)\n",
    "\n",
    "class Shapes(Scene):\n",
    "\n",
    "    def construct(self):\n",
    "        \n",
    "        G = nx.Graph()\n",
    "\n",
    "        G.add_node(0, type='square', factor=(10,10,10), pos=(-2, 2))\n",
    "        G.add_node(1, type='square', factor=(10,10), pos=(2, 2))\n",
    "        G.add_node(2, type='square', factor=(10,20), pos=(2, -2))\n",
    "        G.add_node(3, type='circle', factor=(10,10,10), pos=(-2, -2))\n",
    "\n",
    "        G.add_edge(0, 3, weight=(10,10))\n",
    "        G.add_edge(1, 3, weight=(10,))\n",
    "        G.add_edge(2, 3, weight=(20,))\n",
    "        \n",
    "        mng = mnx.ManimNX(G, get_node, get_edge)\n",
    "        self.play(ShowCreation(mng))\n",
    "#         c = Circle(fill_color=RED, fill_opacity=1)\n",
    "        self.wait(2)\n",
    "#         self.play(ShowCreation(c))"
   ]
  },
  {
   "cell_type": "markdown",
   "metadata": {},
   "source": [
    "# "
   ]
  }
 ],
 "metadata": {
  "kernelspec": {
   "display_name": "manim-py37",
   "language": "python",
   "name": "manim-py37"
  },
  "language_info": {
   "codemirror_mode": {
    "name": "ipython",
    "version": 3
   },
   "file_extension": ".py",
   "mimetype": "text/x-python",
   "name": "python",
   "nbconvert_exporter": "python",
   "pygments_lexer": "ipython3",
   "version": "3.7.3"
  }
 },
 "nbformat": 4,
 "nbformat_minor": 2
}
